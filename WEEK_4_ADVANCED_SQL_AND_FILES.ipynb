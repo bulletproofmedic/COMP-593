{
  "nbformat": 4,
  "nbformat_minor": 0,
  "metadata": {
    "colab": {
      "name": "WEEK 4 ADVANCED SQL AND FILES",
      "provenance": [],
      "include_colab_link": true
    },
    "kernelspec": {
      "name": "python3",
      "display_name": "Python 3"
    }
  },
  "cells": [
    {
      "cell_type": "markdown",
      "metadata": {
        "id": "view-in-github",
        "colab_type": "text"
      },
      "source": [
        "<a href=\"https://colab.research.google.com/github/bulletproofmedic/COMP-593/blob/main/WEEK_4_ADVANCED_SQL_AND_FILES.ipynb\" target=\"_parent\"><img src=\"https://colab.research.google.com/assets/colab-badge.svg\" alt=\"Open In Colab\"/></a>"
      ]
    },
    {
      "cell_type": "markdown",
      "metadata": {
        "id": "jtmWSsdu7sGV"
      },
      "source": [
        "# Lab 4 - Advanced SQL / Writing Files\n",
        "\n",
        "In this week's lab, we are going to expand our Really Simple Social Network by adding another table that will record connections between people! Because after all, what good is a social network if you can't ... be social?\n",
        "\n",
        "Afterwards, we will be in a good position to run a report on the data, and then we can sell it to marketers for a massive profit! Isn't it great how few people read the terms of service? `/s`"
      ]
    },
    {
      "cell_type": "markdown",
      "metadata": {
        "id": "u_jgOruj82au"
      },
      "source": [
        "## Importing our database\n",
        "Since we are using a new colab notebook, we will need to reimport our database. Check your D2L Submission if you didn't keep a copy, you should be able to redownload it there. Run the below code block and the file upload picker will appear, after uploading your Database file, check that it appears in the `Files` tab of colab.\n",
        "\n",
        "Remember that you may need to update the listings before it will appear."
      ]
    },
    {
      "cell_type": "code",
      "metadata": {
        "id": "8IIOmhjf7GoX",
        "outputId": "ddd28582-744b-4a18-a415-622b42cc9952",
        "colab": {
          "resources": {
            "http://localhost:8080/nbextensions/google.colab/files.js": {
              "data": "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",
              "ok": true,
              "headers": [
                [
                  "content-type",
                  "application/javascript"
                ]
              ],
              "status": 200,
              "status_text": ""
            }
          },
          "base_uri": "https://localhost:8080/",
          "height": 73
        }
      },
      "source": [
        "from google.colab import files\n",
        "uploaded = files.upload()\n"
      ],
      "execution_count": 9,
      "outputs": [
        {
          "output_type": "display_data",
          "data": {
            "text/html": [
              "\n",
              "     <input type=\"file\" id=\"files-b15e687f-087e-4f53-a342-282f1ab40783\" name=\"files[]\" multiple disabled\n",
              "        style=\"border:none\" />\n",
              "     <output id=\"result-b15e687f-087e-4f53-a342-282f1ab40783\">\n",
              "      Upload widget is only available when the cell has been executed in the\n",
              "      current browser session. Please rerun this cell to enable.\n",
              "      </output>\n",
              "      <script src=\"/nbextensions/google.colab/files.js\"></script> "
            ],
            "text/plain": [
              "<IPython.core.display.HTML object>"
            ]
          },
          "metadata": {}
        },
        {
          "output_type": "stream",
          "name": "stdout",
          "text": [
            "Saving social_network.db to social_network.db\n"
          ]
        }
      ]
    },
    {
      "cell_type": "markdown",
      "metadata": {
        "id": "Niw3IKvx-034"
      },
      "source": [
        "## Creating our relationship table\n",
        "\n",
        "In the code block below, we will be creating a new table in our database for `relationships` with the following parameters:\n",
        "\n",
        "\n",
        "1.   A primary key column called `id` with the `INTEGER` datatype that is `NOT NULL`\n",
        "2.   A foreign key column called `user_id` that links to the `id` column of the `people` table with the `INTEGER` datatype that is `NOT NULL`\n",
        "3.   Another foreign key column called `friend_id` that also links to the `id` column of the `people` table with the `INTEGER` datatype that is `NOT NULL`\n",
        "4.   A `date_created` table with the `DATE` datatype that is `NOT NULL`\n",
        "\n",
        "The Below codeblock will get you started:\n",
        "\n"
      ]
    },
    {
      "cell_type": "code",
      "metadata": {
        "id": "P2btKpXsANBX"
      },
      "source": [
        "import sqlite3\n",
        "\n",
        "#Retreive the Connection object, rename the file to match your uploaded DB if necessary.\n",
        "myConnection = sqlite3.connect('social_network.db')\n",
        "\n",
        "#Once we have a Connection object, we can generate a Cursor object, and use that to run our SQL Queries\n",
        "myCursor = myConnection.cursor()\n",
        "\n",
        "createRelationshipsTable = \"\"\"CREATE TABLE IF NOT EXISTS relationships (\n",
        "                          id integer PRIMARY KEY NOT NULL,\n",
        "                          user_id integer NOT NULL,\n",
        "                          friend_id integer NOT NULL,\n",
        "                          FOREIGN KEY (user_id) REFERENCES people (id),\n",
        "                          FOREIGN KEY (friend_id) REFERENCES people (id)\n",
        "                        );\"\"\"\n",
        "\n",
        "#Once again, we will execute the query, persist the changes, and close our connection.\n",
        "myCursor.execute(createRelationshipsTable)\n",
        "myConnection.commit()\n",
        "myConnection.close()"
      ],
      "execution_count": 10,
      "outputs": []
    },
    {
      "cell_type": "markdown",
      "metadata": {
        "id": "AQ4tDbnaBPpD"
      },
      "source": [
        "## Populating Relationship Data\n",
        "\n",
        "We're not going to be picky about who knows who - so for the purposes of this lab, we're going to use our own version of an AI matchmaker, the `randrange()` method.\n",
        "\n",
        "Complete the below codeblock, inserting 1000 new rows into the relationships table.\n",
        "Use a random number between `1 - 1000` for the `user_id` and `friend_id` columns. This will link up to the `id` column of the `people` table and effectivly simulate a random network of relationships.\n",
        "\n",
        "The below code block is purposely sparse, as you should be able to use the patterns you've identified in the previous lab to complete this task."
      ]
    },
    {
      "cell_type": "code",
      "metadata": {
        "id": "XL7ho2tJCTBG",
        "outputId": "ee1f8707-518f-4313-d145-788f7ce2d218",
        "colab": {
          "base_uri": "https://localhost:8080/"
        }
      },
      "source": [
        "import sqlite3\n",
        "from pprint import pprint\n",
        "from datetime import datetime #For generating dates and times\n",
        "from random import randrange #For generating random numbers within a range\n",
        "\n",
        "myConnection = sqlite3.connect('social_network.db')\n",
        "myCursor = myConnection.cursor()\n",
        "\n",
        "addRelationshipQuery = \"\"\"INSERT INTO relationships (user_id, friend_id)\n",
        "                            VALUES (?, ?);\"\"\"\n",
        "\n",
        "for _ in range(1000):\n",
        "  #Populate the arguments that will be used in the query\n",
        "  user_id = randrange(1, 1001)\n",
        "  friend_id = randrange(1, 1001)\n",
        "  while user_id == friend_id:\n",
        "    friend_id = randrange(1, 1001)\n",
        "\n",
        "  args = (user_id, friend_id)\n",
        "  myCursor.execute(addRelationshipQuery, args)\n",
        "myConnection.commit()\n",
        "\n",
        "selectStatement = \"\"\"SELECT * FROM relationships\n",
        "                    LIMIT 20\"\"\";\n",
        "\n",
        "results = myCursor.fetchall()\n",
        "pprint(results)\n",
        "\n",
        "myCursor.execute(addRelationshipQuery, args)\n",
        "myConnection.close()\n"
      ],
      "execution_count": 18,
      "outputs": [
        {
          "output_type": "stream",
          "name": "stdout",
          "text": [
            "[]\n"
          ]
        }
      ]
    },
    {
      "cell_type": "markdown",
      "metadata": {
        "id": "qqZLm-E0E2AV"
      },
      "source": [
        "## Building our Report\n",
        "\n",
        "Now that our AI Matchmaker has generated our network of relationships, a marketing firm is offering us boatloads of cash for information about the amount of friends the users of our social network have.\n",
        "\n",
        "The request is to return the name of each user, and the total number of relationships they have made.\n",
        "\n",
        "If this was explained in awkward pseudo code, it might go something like this:\n",
        "```\n",
        "SELECT all relationships\n",
        "JOIN them to the people they belong to\n",
        "GROUP the results by the person's ID\n",
        "return the person's name and COUNT of their relationships\n",
        "```\n",
        "\n",
        "After you have collected the data, you will need to write it to a `.txt` file. \n",
        "\n",
        "**Your submission will include the report `.txt` file, the copy of your updated `social_network.db` file, and a link to the colab notebook.**\n",
        "\n",
        "Look at the aggregate functions from Week 3 and the Join examples from Week 4. There are a few different ways that you can structure a query to reach the correct answer.\n",
        "\n",
        "**At a minimum, you will need to use a `LEFT JOIN` statement, a `GROUP BY` statement, and a `COUNT()` aggregate function.**\n",
        "\n",
        "The below code block will get you started:"
      ]
    },
    {
      "cell_type": "code",
      "metadata": {
        "id": "0OvhhCMKGkU3",
        "outputId": "2aa991a1-7918-401e-c328-286f7001a1fb",
        "colab": {
          "base_uri": "https://localhost:8080/"
        }
      },
      "source": [
        "import sqlite3\n",
        "from pprint import pprint\n",
        "import pandas as pd\n",
        "\n",
        "myConnection = sqlite3.connect('social_network.db')\n",
        "myCursor = myConnection.cursor()\n",
        "\n",
        "#Complete the below query\n",
        "query =  \"\"\"SELECT people.name, COUNT(relationships.id) FROM relationships\n",
        "              LEFT JOIN people ON relationships.user_id = people.id\n",
        "                GROUP BY relationships.user_id;\n",
        "         \"\"\"\n",
        "\n",
        "myCursor.execute(query)\n",
        "results = myCursor.fetchall()\n",
        "\n",
        "myConnection.close()\n",
        "\n",
        "#Uncomment the below line after you have determined what the correct mode will be for your file pointer.\n",
        "fp = open('report.txt', mode='w')\n",
        "\n",
        "pprint(results)\n",
        "\n",
        "for result in results:\n",
        "  fp.write(str(result))\n",
        "  fp.write(\"\\n\")\n",
        "fp.close()\n",
        "\n",
        "read_file = pd.read_csv (r'report.txt')\n",
        "read_file.to_csv (r'report.csv', index=None)"
      ],
      "execution_count": 36,
      "outputs": [
        {
          "output_type": "stream",
          "name": "stdout",
          "text": [
            "[('Kimberly Olsen', 2), ('Ricardo Miles', 1), ('Melissa Bennett', 1), ('Denise Ramirez', 2), ('Kaylee Townsend', 1), ('Lauren Hall', 1), ('Eddie Turner', 4), ('Laura Collins', 2), ('Michael Obrien', 2), ('Danielle Pena', 3), ('Ryan Mcdonald', 1), ('Megan Johnson', 2), ('Samuel Jones', 1), ('Miranda Evans', 1), ('Tiffany Oneal', 6), ('Rebecca Heath PhD', 1), ('James Knox', 3), ('Tonya Dennis', 1), ('Danny Meyers', 2), ('Autumn Valdez', 1), ('Stephanie Snyder', 1), ('Crystal Carroll MD', 5), ('Shannon Marquez', 2), ('Sophia Ward', 1), ('Donna Bailey', 1), ('Brittney Colon', 2), ('Kari Hughes', 1), ('Scott Howell', 2), ('Scott Howe', 1), ('Amber Haynes', 3), ('Lindsay Day', 3), ('Richard Gaines', 2), ('Patrick Boyer', 1), ('Ryan Jimenez', 2), ('Sarah Sutton', 1), ('John Villarreal', 2), ('Deborah Evans', 1), ('Melinda Hernandez', 2), ('Stacie Villarreal', 1), ('Aaron Short', 1), ('Brian Berry', 2), ('Johnny Hernandez', 2), ('Jesse Holmes', 2), ('Becky Silva', 1), ('Loretta Johnson', 1), ('Taylor Mcpherson', 1), ('Robert Snyder', 3), ('Jennifer Moreno', 2), ('Alexis Le', 1), ('Steven Riley', 1), ('Abigail Bean', 2), ('Robyn Ramsey', 1), ('Christopher Miller', 1), ('Mr. Justin Davis', 1), ('Emily Casey', 2), ('James Nelson DDS', 3), ('Christopher Tucker', 1), ('Timothy Sullivan', 1), ('Robert Solis', 1), ('William Young', 2), ('Amber Cooper', 2), ('George Hull', 1), ('Cody White', 2), ('Casey Flores', 2), ('Heather Jackson', 2), ('Eddie Chase', 2), ('Renee Kim', 1), ('Gary Walls', 2), ('Scott Martinez', 1), ('Kelly Vazquez', 1), ('Amy Bell', 1), ('Carolyn Morales', 1), ('Noah Thompson', 1), ('David Hernandez', 2), ('Loretta Ruiz', 1), ('Michele Garcia', 2), ('James Hobbs', 1), ('Brittany Tucker', 4), ('Kevin Richard', 1), ('Joseph Gill', 2), ('Heather Horn', 1), ('Allen Simon', 3), ('Sonya Evans', 2), ('Karen Madden', 1), ('Melissa Gonzales', 1), ('Maria Newman', 3), ('Ian Craig', 2), ('Christina Riddle', 1), ('Jeffrey Johnson', 1), ('Joseph Hawkins', 2), ('Katherine Hancock', 1), ('Robert Richards', 1), ('Melanie Gay', 1), ('Cheryl Nguyen', 1), ('Lori James', 2), ('James Pitts', 2), ('Leslie Drake', 3), ('Kenneth Hahn', 1), ('Charles Wade', 1), ('Alexis Crane', 1), ('Brenda Whitney', 1), ('Harry Garcia', 1), ('Melinda Moore', 1), ('Dylan Barker', 1), ('Craig Martin', 1), ('Collin Brooks', 2), ('Brian Cobb', 1), ('Marcus Ewing', 1), ('Michael Miller', 1), ('Clifford Small', 1), ('Gabrielle Rivas', 2), ('Jennifer Koch', 1), ('Sharon Mueller', 1), ('Jack Singleton', 2), ('Nathaniel Foley', 3), ('Javier Cox', 1), ('Christopher Vargas', 1), ('Michael Smith', 1), ('Sean Johnson', 1), ('Stephanie Stewart', 4), ('Jessica Mccarthy', 1), ('Kevin Mitchell', 2), ('Tyler Scott', 1), ('Russell Weaver', 1), ('Jessica Frey', 2), ('Mrs. Teresa Reed', 1), ('Michael Ramirez', 4), ('Spencer Mueller', 2), ('Brian Shields', 2), ('Michael Anderson', 1), ('David King', 1), ('Sarah Howard', 2), ('Gabriel Murray', 1), ('Jesse Hood', 2), ('Richard Ray', 1), ('Nicole Harrington', 2), ('Nicole Snyder', 1), ('Chad Duncan', 1), ('Rebecca Miller', 2), ('Lawrence Reed', 2), ('Donna Ponce', 1), ('Joyce Dorsey', 1), ('Matthew Mcguire', 2), ('Lauren Kirby', 1), ('Brent Taylor', 2), ('Angela Fisher', 2), ('Heather Villarreal', 2), ('Hannah Tyler', 1), ('James Mathews', 1), ('Earl Hall', 2), ('Martin Armstrong', 1), ('Andrew Wood', 1), ('Carol Peterson', 2), ('Linda Rangel', 1), ('Caitlin Benson', 3), ('Samuel Taylor', 1), ('Courtney Whitney', 1), ('Rhonda Jones', 3), ('Elizabeth Cunningham', 1), ('Sheila Duncan', 1), ('Edward Williams', 1), ('Danielle Davidson', 2), ('Justin Rice', 1), ('Matthew Myers', 1), ('Michael Chavez', 2), ('Lisa Hammond', 1), ('Danielle Flores', 2), ('Christine Jones', 2), ('Kevin Campbell', 1), ('Danny Long', 2), ('Cynthia Savage', 1), ('Carlos Kramer', 2), ('Matthew Martinez', 1), ('Kristine Todd', 1), ('Sarah Myers', 1), ('Robert Fowler', 2), ('Kelly Richards', 1), ('Laura Walls', 2), ('Sara Padilla', 2), ('Stephen Williams', 2), ('Chris Martin', 1), ('Beth Whitehead', 1), ('Erica Anthony', 1), ('Micheal Turner', 2), ('Frank Saunders', 3), ('Jacqueline Hernandez', 4), ('Amy Hale DDS', 1), ('Donald Kirby', 2), ('Christy Kirk', 1), ('Jay Fitzgerald', 1), ('Michael Bennett', 1), ('Jim Flores', 1), ('Jeffery Smith', 1), ('John Blevins', 2), ('Jason Davenport', 1), ('Christopher Armstrong', 2), ('Jared Harvey', 2), ('Amy Webster', 1), ('Sandra Taylor', 2), ('Carrie Murray MD', 1), ('Joshua Shepherd', 3), ('Mr. Steven Taylor Jr.', 2), ('Jeff Howe', 1), ('Pamela Lam', 1), ('Teresa Alvarez', 2), ('Benjamin Rodriguez', 1), ('Jennifer Reilly', 1), ('Jason Bell', 3), ('Travis Austin', 1), ('Amy Johnson', 1), ('Mark Simpson', 1), ('Patrick Collins', 1), ('Brenda Green', 2), ('Leslie Harris', 1), ('Patty Hill', 2), ('Julian Jordan', 1), ('Katelyn Gilbert', 1), ('Megan Gonzalez', 1), ('Leah Green', 1), ('Justin Hanson', 1), ('Tanya Wells', 1), ('Erica Fields', 4), ('Shelby Kelly', 1), ('Timothy Lambert', 2), ('Diana Hudson', 1), ('Henry Smith', 1), ('Robert White', 1), ('Jessica Matthews', 1), ('Michael Hart', 3), ('Kathleen Sloan', 1), ('Edward Turner', 2), ('John Thomas', 1), ('Sarah Reyes', 1), ('Julia Lee', 1), ('Michael Brown', 1), ('Tracey Gonzalez', 3), ('Ryan Shields', 1), ('Richard Turner', 2), ('Devin Jenkins', 4), ('Makayla Wright', 1), ('Casey Bradshaw', 1), ('Mrs. Nicole Jones', 2), ('Thomas Anderson', 4), ('Alexandra Riley', 4), ('Sherri Jones', 3), ('Amanda Alexander', 2), ('Carl Conner', 1), ('Ashley Austin', 1), ('Tony Wright', 1), ('Robert Burnett', 1), ('Amber Campbell', 1), ('Tyler Mcmillan', 1), ('Jordan Miller', 2), ('Eduardo Proctor', 1), ('Raven Molina', 1), ('Daniel Jones', 1), ('Zachary Simpson', 2), ('Laurie Copeland', 2), ('Kaitlin Monroe', 1), ('Jill Yoder', 4), ('Anthony Williams', 2), ('Joseph Vasquez', 2), ('Carol Berry', 2), ('Kelly Solis', 1), ('Deanna Dixon', 3), ('Kristen Santana', 1), ('Taylor Black', 1), ('Cassandra Stone', 1), ('Brianna Villa', 4), ('Jared Farrell', 2), ('April Foster', 1), ('Joshua Mcintyre', 1), ('Anna Santos', 4), ('Nathaniel Lawrence', 2), ('Amanda Smith', 1), ('Robert Thomas', 2), ('Maria Hudson', 1), ('Anthony Silva', 1), ('Mark Ford', 3), ('Sandra Mosley', 2), ('Elizabeth Lewis', 2), ('Louis Moore', 1), ('Lisa Melton', 2), ('Nicholas Porter', 1), ('Kristen Madden', 3), ('Sandra Young', 3), ('Shelley Brady', 1), ('Gregory Gilbert', 2), ('Kimberly Parker', 1), ('Samuel Horn', 1), ('Johnny Erickson', 3), ('Michael Krause', 1), ('Vincent Mcintosh', 2), ('Michael Villarreal', 2), ('Mr. Paul Shaw PhD', 1), ('Joshua Wood', 4), ('Zachary Bernard', 1), ('Douglas Jones', 1), ('Angela Johnson', 1), ('Stephanie Martinez', 1), ('Jessica Brown', 3), ('Dillon Shelton', 1), ('Robyn Pruitt', 2), ('Christopher Whitaker', 1), ('Dustin Avery', 1), ('Mark Brady', 2), ('Steven Fuller', 1), ('Christopher Pena', 2), ('Alyssa Richardson', 2), ('George Robertson', 1), ('Marissa Thomas', 1), ('Ashley Becker', 1), ('Christopher Nolan', 2), ('Christopher Norris', 2), ('Peter Pace', 1), ('Stephen Garcia', 2), ('Joe Jenkins', 2), ('Christopher Melton', 3), ('Shelly Murray', 1), ('Leslie Erickson', 2), ('Juan Ortiz', 3), ('Sharon Cooper', 1), ('Jessica Ray', 2), ('Timothy Peterson', 2), ('Kayla Turner', 4), ('Jeffrey Higgins', 2), ('Matthew Chapman', 1), ('Jonathan Hernandez', 1), ('James Johnson', 2), ('Linda Thomas', 1), ('Shelby Hernandez', 1), ('Joseph Cervantes', 1), ('Nicholas Johnson', 1), ('Anne Torres', 1), ('Robert Reyes', 2), ('Lisa Holloway', 1), ('Justin Ochoa', 1), ('Brian Phillips', 1), ('Leslie James', 4), ('Elizabeth Walker', 2), ('Amber Sanders', 1), ('Mitchell Harrison', 2), ('Erik Rivera', 1), ('Jennifer Mcdonald', 1), ('Austin Howard', 2), ('Victoria Smith', 1), ('Dawn Martin', 1), ('Crystal Parker', 2), ('Donna Sullivan', 1), ('Dennis Booth', 1), ('Caroline Walton', 1), ('Christine Parker', 3), ('Bill Herrera', 2), ('Gene Kaufman', 3), ('Teresa Patrick MD', 1), ('Austin Hood', 2), ('Jeffrey Simmons', 1), ('Joshua Hayden', 2), ('Tina Morgan', 1), ('Tammy Osborne', 1), ('Stacey Wilcox', 2), ('Kimberly Hoover', 3), ('Dr. Reginald Martinez', 2), ('Joseph Lee', 1), ('Rebecca Marks', 3), ('Candace Cooper', 1), ('Sharon Farrell', 2), ('Erik Carey', 1), ('David Sanchez', 1), ('Ronald Lee', 1), ('Thomas Stone', 1), ('Adriana Brown', 1), ('Olivia Odonnell', 1), ('Carla Daniels', 2), ('Marissa White', 1), ('Rebecca May', 1), ('Jeffery Mason', 1), ('Teresa Daniel DVM', 1), ('Tara Hicks', 1), ('Whitney Moore', 3), ('Jeanette Lopez', 1), ('Mandy Murray', 2), ('Jeffrey Howard', 1), ('Kyle Krause', 2), ('Dr. Michelle Harris', 1), ('Victoria Mitchell', 1), ('Alicia Nguyen', 1), ('Alexander Perez', 3), ('Paul Quinn', 2), ('Nathaniel Duncan', 1), ('Ruth White', 1), ('Deborah Rowland', 2), ('Marco Barber', 3), ('William Mercer', 1), ('Nathaniel Higgins', 3), ('John Miller', 1), ('Kevin Weaver', 1), ('Susan Taylor', 1), ('Bryan Ortega', 2), ('Robert Baker', 2), ('Michele Miles', 1), ('John Young', 2), ('John Cain', 1), ('Tracy Black', 2), ('Peter Maldonado', 2), ('Justin Burns', 3), ('Paige Chapman', 1), ('Crystal Christensen', 2), ('Michael Lin', 2), ('Julia Soto', 1), ('James Smith', 2), ('David Harris', 2), ('Kerri Short', 1), ('Kevin Trevino', 1), ('Michael Johnson', 1), ('Matthew Bush', 1), ('David Moore', 1), ('Erin Mitchell', 2), ('Susan Norris MD', 2), ('Bryan Wilson', 1), ('Gregory Brown', 1), ('Katherine Johnson', 1), ('Shannon Martinez', 3), ('Nicholas Miller', 1), ('Joseph Campos', 1), ('Susan Nichols', 1), ('Jason Vargas', 3), ('Tracy Garcia', 1), ('Kelly Roy', 3), ('Amanda Bowen', 1), ('Brandon Nicholson', 1), ('Jason Perez', 2), ('Jordan Chang', 1), ('Eric Johnson', 1), ('Christina Chang', 1), ('Manuel Webb', 1), ('Mrs. Kara Harvey', 1), ('Rebecca Nelson', 1), ('Kristina Maxwell', 1), ('Karen Ramos', 1), ('Curtis Ramirez', 1), ('Denise Lee', 1), ('Randy Parker Jr.', 2), ('Carrie Hernandez', 1), ('Barbara Murray', 2), ('Christina Gonzalez', 2), ('Blake Davidson', 1), ('Juan Perez', 1), ('Jerry Martin', 2), ('Alyssa Douglas', 2), ('Eric Hull', 1), ('Leonard Nichols', 1), ('Steven Morales', 2), ('Rachel Miller', 2), ('Pamela Rowland', 2), ('Sean Johnson', 1), ('Melissa Wallace', 1), ('Cameron Smith', 1), ('Dennis Payne', 1), ('Glenn Diaz', 4), ('Ashley Foster', 2), ('Kristin Williams', 1), ('Jill Stewart', 1), ('Corey Fowler', 3), ('Kyle Patrick', 1), ('Thomas Cook', 1), ('Michael Mueller', 4), ('Cassandra Simpson', 2), ('Timothy Caldwell', 2), ('Judy Manning', 1), ('Christopher Wright', 1), ('Richard Munoz', 1), ('Scott Reilly', 2), ('Craig Fields', 1), ('Randy Perkins', 1), ('Crystal Wilson', 1), ('David Larson', 3), ('Christina Zavala', 2), ('Deanna Phillips', 1), ('Amy Townsend', 1), ('Brandon Lindsey', 1), ('Gilbert Powers', 3), ('Angela Rojas', 1), ('Riley Ramirez', 1), ('Kyle Larson', 1), ('Tiffany Henderson DVM', 1), ('Karen Pitts', 2), ('Tracy Mitchell', 2), ('Heather Stuart', 1), ('Deanna Hall', 1), ('Shannon Robles', 1), ('Timothy Le', 2), ('Roberta Day', 2), ('Garrett Alexander', 2), ('Oscar Vasquez', 2), ('Christopher Roy', 1), ('Martha Morris', 2), ('Donna Mendez', 4), ('Jessica Anderson', 1), ('Michelle Wall', 2), ('Michele Adams', 1), ('James Moore', 2), ('Patricia Washington', 1), ('Jenny Martinez', 2), ('Sarah Smith', 3), ('Albert Spears', 1), ('Brandon Price', 1), ('Kelly White', 2), ('Stephen Cook', 3), ('Abigail Smith', 2), ('Wesley Grant', 1), ('Hannah Barnes', 1), ('Jennifer Roberts', 2), ('Tyrone Pratt', 2), ('Alex Perry', 1), ('Brian Preston', 1), ('Chad Roman', 2), ('Tina Smith', 3), ('Sharon Serrano', 1), ('Andrew Myers', 1), ('Amanda Hardin', 1), ('Jennifer Ramos', 1), ('Madison Monroe', 3), ('Amy Wilson', 1), ('Brian Curry', 1), ('Lori Christensen', 1), ('Jeffery Lowery', 2), ('Erica Johnson', 1), ('Brian Stevens', 1), ('Melissa Jackson', 1), ('Kara Rodriguez', 2), ('Geoffrey Green', 1), ('Michael Greer', 4), ('Jason Jimenez', 1), ('Roberta Freeman', 1), ('Andrea Thompson', 1), ('Jessica Graves', 2), ('Tonya Smith', 1), ('Jason Mccoy', 2), ('James Mason', 1), ('Thomas Schroeder', 1), ('Robert Rodriguez', 1), ('David Burton', 2), ('Sandy Simmons', 3), ('Robert Parker', 1), ('Debra Murphy', 3), ('Sarah Johnson', 1), ('Barbara Mitchell', 1), ('Terry Sullivan', 3), ('Molly Shelton', 3), ('Donald Wilson', 4), ('Mitchell Meadows', 1), ('Erika Fischer', 1), ('Justin Price', 1), ('Jason Mueller', 1), ('Stanley Harris', 1), ('Philip Garcia', 2), ('Lori Baker', 2), ('Ashley Collins', 1), ('Andrew Ferguson', 1), ('Marcus Cain', 3), ('Christine Hart', 1), ('Tina Alexander', 1), ('Scott Butler', 1), ('Brandon Walls', 1), ('Shane Rocha', 3), ('Walter Harris', 1), ('Paul Cruz', 1), ('Joshua Ramos', 1), ('Erin Moore', 1), ('Jim Blair', 2), ('Carolyn Anderson', 2), ('Elizabeth Perez', 1), ('Brent Andrade', 1), ('Kelli Myers DVM', 1), ('Shelby Davis', 1), ('Eric Russo', 2), ('Kathryn Fox DVM', 1), ('Holly Hess', 1), ('Bianca Tucker', 2), ('Judy Collins', 2), ('Mark Myers', 2), ('Daniel Sims', 1), ('Michelle Thompson', 1), ('Mark Thornton', 1), ('Jill York', 3), ('Angela Carey', 1), ('Matthew Johnson', 2), ('Zachary Bailey', 1), ('Deborah Diaz', 1), ('Melissa Mckinney', 1), ('Tommy Robinson', 1), ('Sharon Jones', 2), ('Robert Santos', 2), ('Gabriel Hansen', 1), ('Lawrence Bender', 1), ('Jill Blevins', 1), ('Ashley Meza', 1), ('Eric Bond', 2), ('Alex Butler', 2), ('Julia Hernandez', 1), ('Ricky Bray', 1), ('Casey Collins', 2), ('Taylor Mercado', 1), ('Nancy Allen', 2), ('Patrick Murray', 1), ('Diane Collins', 2), ('Adrian Nelson', 1), ('Michelle Aguilar', 1), ('Peter Zimmerman', 1), ('David Smith', 1), ('Ashley Webster', 2), ('Jean Spencer', 1), ('Corey Walker', 1), ('Jody Salinas', 1), ('Nancy Oliver', 3), ('Kathleen Lewis', 4), ('Matthew Allen', 1), ('Michael Arnold', 5), ('Christina Spencer', 4), ('Laura Collins', 1), ('Rebecca Moore', 1), ('James Harrison', 1), ('Alyssa Perkins', 1), ('Jon Johnson', 1), ('Jennifer Martin', 2), ('Autumn Nelson', 1), ('Melanie Fuller', 3), ('Nathaniel Mason', 1), ('Angela Richardson', 2)]\n"
          ]
        }
      ]
    },
    {
      "cell_type": "markdown",
      "metadata": {
        "id": "uhxqLV4TNnjA"
      },
      "source": [
        "### Challenge: Write a CSV file\n",
        "\n",
        "**This challenge isn't for extra marks, it's an opportunity for you to engage in some self guided discovery, only if you feel like it, and only if you have time.**\n",
        "\n",
        "If you want to challenge yourself, alter the report so that it conforms with the `.csv` file type. There are a number of ways to do this, you can use the `Pandas` module, the `csv` module, or manually."
      ]
    }
  ]
}